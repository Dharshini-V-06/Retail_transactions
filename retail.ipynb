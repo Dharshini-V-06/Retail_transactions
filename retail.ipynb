{
 "cells": [
  {
   "cell_type": "code",
   "execution_count": 827,
   "id": "bb0568d5",
   "metadata": {},
   "outputs": [],
   "source": [
    "import pandas as pd\n",
    "import numpy as np\n",
    "import matplotlib.pyplot as plt\n",
    "import seaborn as sns"
   ]
  },
  {
   "cell_type": "markdown",
   "id": "2cf160aa",
   "metadata": {},
   "source": [
    "Part A: Data Preprocessing Tasks"
   ]
  },
  {
   "cell_type": "code",
   "execution_count": 828,
   "id": "9daca00a",
   "metadata": {},
   "outputs": [],
   "source": [
    "df=pd.read_csv('Retail_Transactions_2000.csv')"
   ]
  },
  {
   "cell_type": "code",
   "execution_count": 829,
   "id": "c04c917d",
   "metadata": {},
   "outputs": [
    {
     "data": {
      "text/html": [
       "<div>\n",
       "<style scoped>\n",
       "    .dataframe tbody tr th:only-of-type {\n",
       "        vertical-align: middle;\n",
       "    }\n",
       "\n",
       "    .dataframe tbody tr th {\n",
       "        vertical-align: top;\n",
       "    }\n",
       "\n",
       "    .dataframe thead th {\n",
       "        text-align: right;\n",
       "    }\n",
       "</style>\n",
       "<table border=\"1\" class=\"dataframe\">\n",
       "  <thead>\n",
       "    <tr style=\"text-align: right;\">\n",
       "      <th></th>\n",
       "      <th>TransactionID</th>\n",
       "      <th>CustomerID</th>\n",
       "      <th>Gender</th>\n",
       "      <th>Age</th>\n",
       "      <th>City</th>\n",
       "      <th>ProductCategory</th>\n",
       "      <th>Quantity</th>\n",
       "      <th>Price</th>\n",
       "      <th>PurchaseDate</th>\n",
       "      <th>PaymentMode</th>\n",
       "      <th>TotalAmount</th>\n",
       "    </tr>\n",
       "  </thead>\n",
       "  <tbody>\n",
       "    <tr>\n",
       "      <th>0</th>\n",
       "      <td>T00001</td>\n",
       "      <td>C2824</td>\n",
       "      <td>Female</td>\n",
       "      <td>33</td>\n",
       "      <td>Bengaluru</td>\n",
       "      <td>Fashion</td>\n",
       "      <td>3</td>\n",
       "      <td>4479</td>\n",
       "      <td>2023-03-15</td>\n",
       "      <td>Cash</td>\n",
       "      <td>13437</td>\n",
       "    </tr>\n",
       "    <tr>\n",
       "      <th>1</th>\n",
       "      <td>T00002</td>\n",
       "      <td>C1409</td>\n",
       "      <td>Other</td>\n",
       "      <td>20</td>\n",
       "      <td>Pune</td>\n",
       "      <td>Books</td>\n",
       "      <td>5</td>\n",
       "      <td>1051</td>\n",
       "      <td>2023-01-22</td>\n",
       "      <td>Card</td>\n",
       "      <td>5255</td>\n",
       "    </tr>\n",
       "    <tr>\n",
       "      <th>2</th>\n",
       "      <td>T00003</td>\n",
       "      <td>C5506</td>\n",
       "      <td>Other</td>\n",
       "      <td>47</td>\n",
       "      <td>Pune</td>\n",
       "      <td>Furniture</td>\n",
       "      <td>1</td>\n",
       "      <td>111</td>\n",
       "      <td>2023-04-18</td>\n",
       "      <td>Wallet</td>\n",
       "      <td>111</td>\n",
       "    </tr>\n",
       "    <tr>\n",
       "      <th>3</th>\n",
       "      <td>T00004</td>\n",
       "      <td>C5012</td>\n",
       "      <td>Other</td>\n",
       "      <td>21</td>\n",
       "      <td>Hyderabad</td>\n",
       "      <td>Groceries</td>\n",
       "      <td>5</td>\n",
       "      <td>2946</td>\n",
       "      <td>2023-08-09</td>\n",
       "      <td>Cash</td>\n",
       "      <td>14730</td>\n",
       "    </tr>\n",
       "    <tr>\n",
       "      <th>4</th>\n",
       "      <td>T00005</td>\n",
       "      <td>C4657</td>\n",
       "      <td>Female</td>\n",
       "      <td>41</td>\n",
       "      <td>Chennai</td>\n",
       "      <td>Sports</td>\n",
       "      <td>1</td>\n",
       "      <td>3123</td>\n",
       "      <td>2023-09-23</td>\n",
       "      <td>Wallet</td>\n",
       "      <td>3123</td>\n",
       "    </tr>\n",
       "  </tbody>\n",
       "</table>\n",
       "</div>"
      ],
      "text/plain": [
       "  TransactionID CustomerID  Gender  Age       City ProductCategory  Quantity  \\\n",
       "0        T00001      C2824  Female   33  Bengaluru         Fashion         3   \n",
       "1        T00002      C1409   Other   20       Pune           Books         5   \n",
       "2        T00003      C5506   Other   47       Pune       Furniture         1   \n",
       "3        T00004      C5012   Other   21  Hyderabad       Groceries         5   \n",
       "4        T00005      C4657  Female   41    Chennai          Sports         1   \n",
       "\n",
       "   Price PurchaseDate PaymentMode  TotalAmount  \n",
       "0   4479   2023-03-15        Cash        13437  \n",
       "1   1051   2023-01-22        Card         5255  \n",
       "2    111   2023-04-18      Wallet          111  \n",
       "3   2946   2023-08-09        Cash        14730  \n",
       "4   3123   2023-09-23      Wallet         3123  "
      ]
     },
     "execution_count": 829,
     "metadata": {},
     "output_type": "execute_result"
    }
   ],
   "source": [
    "df.head()"
   ]
  },
  {
   "cell_type": "code",
   "execution_count": 830,
   "id": "6f7cb130",
   "metadata": {},
   "outputs": [
    {
     "data": {
      "text/plain": [
       "22000"
      ]
     },
     "execution_count": 830,
     "metadata": {},
     "output_type": "execute_result"
    }
   ],
   "source": [
    "df.size"
   ]
  },
  {
   "cell_type": "code",
   "execution_count": 831,
   "id": "923b100d",
   "metadata": {},
   "outputs": [
    {
     "data": {
      "text/plain": [
       "(2000, 11)"
      ]
     },
     "execution_count": 831,
     "metadata": {},
     "output_type": "execute_result"
    }
   ],
   "source": [
    "df.shape"
   ]
  },
  {
   "cell_type": "code",
   "execution_count": 832,
   "id": "f97573bd",
   "metadata": {},
   "outputs": [
    {
     "data": {
      "text/plain": [
       "TransactionID      0\n",
       "CustomerID         0\n",
       "Gender             0\n",
       "Age                0\n",
       "City               0\n",
       "ProductCategory    0\n",
       "Quantity           0\n",
       "Price              0\n",
       "PurchaseDate       0\n",
       "PaymentMode        0\n",
       "TotalAmount        0\n",
       "dtype: int64"
      ]
     },
     "execution_count": 832,
     "metadata": {},
     "output_type": "execute_result"
    }
   ],
   "source": [
    "df.isnull().sum()"
   ]
  },
  {
   "cell_type": "code",
   "execution_count": 833,
   "id": "a643ebb5",
   "metadata": {},
   "outputs": [
    {
     "data": {
      "text/plain": [
       "np.int64(0)"
      ]
     },
     "execution_count": 833,
     "metadata": {},
     "output_type": "execute_result"
    }
   ],
   "source": [
    "df.duplicated().sum()"
   ]
  },
  {
   "cell_type": "code",
   "execution_count": 834,
   "id": "c28229b6",
   "metadata": {},
   "outputs": [
    {
     "name": "stdout",
     "output_type": "stream",
     "text": [
      "<class 'pandas.core.frame.DataFrame'>\n",
      "RangeIndex: 2000 entries, 0 to 1999\n",
      "Data columns (total 11 columns):\n",
      " #   Column           Non-Null Count  Dtype \n",
      "---  ------           --------------  ----- \n",
      " 0   TransactionID    2000 non-null   object\n",
      " 1   CustomerID       2000 non-null   object\n",
      " 2   Gender           2000 non-null   object\n",
      " 3   Age              2000 non-null   int64 \n",
      " 4   City             2000 non-null   object\n",
      " 5   ProductCategory  2000 non-null   object\n",
      " 6   Quantity         2000 non-null   int64 \n",
      " 7   Price            2000 non-null   int64 \n",
      " 8   PurchaseDate     2000 non-null   object\n",
      " 9   PaymentMode      2000 non-null   object\n",
      " 10  TotalAmount      2000 non-null   int64 \n",
      "dtypes: int64(4), object(7)\n",
      "memory usage: 172.0+ KB\n"
     ]
    }
   ],
   "source": [
    "df.info()"
   ]
  },
  {
   "cell_type": "code",
   "execution_count": 835,
   "id": "7959a8af",
   "metadata": {},
   "outputs": [
    {
     "data": {
      "text/html": [
       "<div>\n",
       "<style scoped>\n",
       "    .dataframe tbody tr th:only-of-type {\n",
       "        vertical-align: middle;\n",
       "    }\n",
       "\n",
       "    .dataframe tbody tr th {\n",
       "        vertical-align: top;\n",
       "    }\n",
       "\n",
       "    .dataframe thead th {\n",
       "        text-align: right;\n",
       "    }\n",
       "</style>\n",
       "<table border=\"1\" class=\"dataframe\">\n",
       "  <thead>\n",
       "    <tr style=\"text-align: right;\">\n",
       "      <th></th>\n",
       "      <th>Age</th>\n",
       "      <th>Quantity</th>\n",
       "      <th>Price</th>\n",
       "      <th>TotalAmount</th>\n",
       "    </tr>\n",
       "  </thead>\n",
       "  <tbody>\n",
       "    <tr>\n",
       "      <th>count</th>\n",
       "      <td>2000.000000</td>\n",
       "      <td>2000.000000</td>\n",
       "      <td>2000.00000</td>\n",
       "      <td>2000.000000</td>\n",
       "    </tr>\n",
       "    <tr>\n",
       "      <th>mean</th>\n",
       "      <td>44.679000</td>\n",
       "      <td>2.957000</td>\n",
       "      <td>2496.61000</td>\n",
       "      <td>7307.414500</td>\n",
       "    </tr>\n",
       "    <tr>\n",
       "      <th>std</th>\n",
       "      <td>15.179795</td>\n",
       "      <td>1.412143</td>\n",
       "      <td>1413.95187</td>\n",
       "      <td>5705.065758</td>\n",
       "    </tr>\n",
       "    <tr>\n",
       "      <th>min</th>\n",
       "      <td>18.000000</td>\n",
       "      <td>1.000000</td>\n",
       "      <td>100.00000</td>\n",
       "      <td>111.000000</td>\n",
       "    </tr>\n",
       "    <tr>\n",
       "      <th>25%</th>\n",
       "      <td>32.000000</td>\n",
       "      <td>2.000000</td>\n",
       "      <td>1239.00000</td>\n",
       "      <td>2756.250000</td>\n",
       "    </tr>\n",
       "    <tr>\n",
       "      <th>50%</th>\n",
       "      <td>45.000000</td>\n",
       "      <td>3.000000</td>\n",
       "      <td>2481.50000</td>\n",
       "      <td>5562.500000</td>\n",
       "    </tr>\n",
       "    <tr>\n",
       "      <th>75%</th>\n",
       "      <td>58.000000</td>\n",
       "      <td>4.000000</td>\n",
       "      <td>3695.50000</td>\n",
       "      <td>10751.250000</td>\n",
       "    </tr>\n",
       "    <tr>\n",
       "      <th>max</th>\n",
       "      <td>70.000000</td>\n",
       "      <td>5.000000</td>\n",
       "      <td>5000.00000</td>\n",
       "      <td>24950.000000</td>\n",
       "    </tr>\n",
       "  </tbody>\n",
       "</table>\n",
       "</div>"
      ],
      "text/plain": [
       "               Age     Quantity       Price   TotalAmount\n",
       "count  2000.000000  2000.000000  2000.00000   2000.000000\n",
       "mean     44.679000     2.957000  2496.61000   7307.414500\n",
       "std      15.179795     1.412143  1413.95187   5705.065758\n",
       "min      18.000000     1.000000   100.00000    111.000000\n",
       "25%      32.000000     2.000000  1239.00000   2756.250000\n",
       "50%      45.000000     3.000000  2481.50000   5562.500000\n",
       "75%      58.000000     4.000000  3695.50000  10751.250000\n",
       "max      70.000000     5.000000  5000.00000  24950.000000"
      ]
     },
     "execution_count": 835,
     "metadata": {},
     "output_type": "execute_result"
    }
   ],
   "source": [
    "df.describe()"
   ]
  },
  {
   "cell_type": "code",
   "execution_count": 836,
   "id": "d62a2925",
   "metadata": {},
   "outputs": [
    {
     "name": "stdout",
     "output_type": "stream",
     "text": [
      "['Female' 'Other' 'Male']\n"
     ]
    }
   ],
   "source": [
    "print(df['Gender'].unique())"
   ]
  },
  {
   "cell_type": "code",
   "execution_count": 837,
   "id": "db102a80",
   "metadata": {},
   "outputs": [
    {
     "name": "stdout",
     "output_type": "stream",
     "text": [
      "Empty DataFrame\n",
      "Columns: [TransactionID, CustomerID, Gender, Age, City, ProductCategory, Quantity, Price, PurchaseDate, PaymentMode, TotalAmount]\n",
      "Index: []\n"
     ]
    }
   ],
   "source": [
    "print(df[(df['Age'] < 0) | (df['Age'] > 120)])"
   ]
  },
  {
   "cell_type": "code",
   "execution_count": 838,
   "id": "4eecf968",
   "metadata": {},
   "outputs": [
    {
     "name": "stdout",
     "output_type": "stream",
     "text": [
      "['Bengaluru' 'Pune' 'Hyderabad' 'Chennai' 'Delhi' 'Jaipur' 'Lucknow'\n",
      " 'Ahmedabad' 'Kolkata' 'Mumbai']\n"
     ]
    }
   ],
   "source": [
    "print(df['City'].unique())"
   ]
  },
  {
   "cell_type": "code",
   "execution_count": 839,
   "id": "ed2add4f",
   "metadata": {},
   "outputs": [
    {
     "name": "stdout",
     "output_type": "stream",
     "text": [
      "['Cash' 'Card' 'Wallet' 'UPI']\n"
     ]
    }
   ],
   "source": [
    "print(df['PaymentMode'].unique())"
   ]
  },
  {
   "cell_type": "code",
   "execution_count": 840,
   "id": "17248566",
   "metadata": {},
   "outputs": [
    {
     "name": "stdout",
     "output_type": "stream",
     "text": [
      "      TotalAmount  CheckAmount\n",
      "0           13437        13437\n",
      "1            5255         5255\n",
      "2             111          111\n",
      "3           14730        14730\n",
      "4            3123         3123\n",
      "...           ...          ...\n",
      "1995         4872         4872\n",
      "1996         8232         8232\n",
      "1997         3246         3246\n",
      "1998         5418         5418\n",
      "1999         3122         3122\n",
      "\n",
      "[2000 rows x 2 columns]\n"
     ]
    }
   ],
   "source": [
    "df['CheckAmount']=df['Quantity']*df['Price']\n",
    "print(df[['TotalAmount', 'CheckAmount']])"
   ]
  },
  {
   "cell_type": "code",
   "execution_count": 841,
   "id": "2fb203a5",
   "metadata": {},
   "outputs": [],
   "source": [
    "df=df.drop_duplicates(subset=['TransactionID'])"
   ]
  },
  {
   "cell_type": "code",
   "execution_count": 842,
   "id": "e2f0aed9",
   "metadata": {},
   "outputs": [
    {
     "data": {
      "text/plain": [
       "(2000, 12)"
      ]
     },
     "execution_count": 842,
     "metadata": {},
     "output_type": "execute_result"
    }
   ],
   "source": [
    "df.shape"
   ]
  },
  {
   "cell_type": "code",
   "execution_count": 843,
   "id": "8ad7e708",
   "metadata": {},
   "outputs": [],
   "source": [
    "df['Gender']=df['Gender'].str.strip().str.capitalize()\n",
    "df['Gender']=df['Gender'].replace({'M':'Male', 'F':'Female','MALE':'Male', 'FEMALE':'Female'})"
   ]
  },
  {
   "cell_type": "code",
   "execution_count": 844,
   "id": "0533f5b4",
   "metadata": {},
   "outputs": [],
   "source": [
    "df['PaymentMode']=df['PaymentMode'].str.strip().str.capitalize()"
   ]
  },
  {
   "cell_type": "code",
   "execution_count": 845,
   "id": "5d604abc",
   "metadata": {},
   "outputs": [],
   "source": [
    "df['City']=df['City'].str.strip().str.title()"
   ]
  },
  {
   "cell_type": "code",
   "execution_count": 846,
   "id": "a8b3481b",
   "metadata": {},
   "outputs": [
    {
     "name": "stdout",
     "output_type": "stream",
     "text": [
      "Empty DataFrame\n",
      "Columns: [TransactionID, CustomerID, Gender, Age, City, ProductCategory, Quantity, Price, PurchaseDate, PaymentMode, TotalAmount, CheckAmount]\n",
      "Index: []\n"
     ]
    }
   ],
   "source": [
    "print(df[(df['Quantity']<=0) | (df['Price']<=0)])"
   ]
  },
  {
   "cell_type": "code",
   "execution_count": 847,
   "id": "d8fedbae",
   "metadata": {},
   "outputs": [],
   "source": [
    "df['TotalAmount']=df['TotalAmount'].fillna(df['Quantity']*df['Price'])"
   ]
  },
  {
   "cell_type": "code",
   "execution_count": 848,
   "id": "5310fef2",
   "metadata": {},
   "outputs": [
    {
     "data": {
      "text/html": [
       "<div>\n",
       "<style scoped>\n",
       "    .dataframe tbody tr th:only-of-type {\n",
       "        vertical-align: middle;\n",
       "    }\n",
       "\n",
       "    .dataframe tbody tr th {\n",
       "        vertical-align: top;\n",
       "    }\n",
       "\n",
       "    .dataframe thead th {\n",
       "        text-align: right;\n",
       "    }\n",
       "</style>\n",
       "<table border=\"1\" class=\"dataframe\">\n",
       "  <thead>\n",
       "    <tr style=\"text-align: right;\">\n",
       "      <th></th>\n",
       "      <th>TransactionID</th>\n",
       "      <th>CustomerID</th>\n",
       "      <th>Gender</th>\n",
       "      <th>Age</th>\n",
       "      <th>City</th>\n",
       "      <th>ProductCategory</th>\n",
       "      <th>Quantity</th>\n",
       "      <th>Price</th>\n",
       "      <th>PurchaseDate</th>\n",
       "      <th>PaymentMode</th>\n",
       "      <th>TotalAmount</th>\n",
       "      <th>CheckAmount</th>\n",
       "    </tr>\n",
       "  </thead>\n",
       "  <tbody>\n",
       "    <tr>\n",
       "      <th>0</th>\n",
       "      <td>T00001</td>\n",
       "      <td>C2824</td>\n",
       "      <td>Female</td>\n",
       "      <td>33</td>\n",
       "      <td>Bengaluru</td>\n",
       "      <td>Fashion</td>\n",
       "      <td>3</td>\n",
       "      <td>4479</td>\n",
       "      <td>2023-03-15</td>\n",
       "      <td>Cash</td>\n",
       "      <td>13437</td>\n",
       "      <td>13437</td>\n",
       "    </tr>\n",
       "    <tr>\n",
       "      <th>1</th>\n",
       "      <td>T00002</td>\n",
       "      <td>C1409</td>\n",
       "      <td>Other</td>\n",
       "      <td>20</td>\n",
       "      <td>Pune</td>\n",
       "      <td>Books</td>\n",
       "      <td>5</td>\n",
       "      <td>1051</td>\n",
       "      <td>2023-01-22</td>\n",
       "      <td>Card</td>\n",
       "      <td>5255</td>\n",
       "      <td>5255</td>\n",
       "    </tr>\n",
       "    <tr>\n",
       "      <th>2</th>\n",
       "      <td>T00003</td>\n",
       "      <td>C5506</td>\n",
       "      <td>Other</td>\n",
       "      <td>47</td>\n",
       "      <td>Pune</td>\n",
       "      <td>Furniture</td>\n",
       "      <td>1</td>\n",
       "      <td>111</td>\n",
       "      <td>2023-04-18</td>\n",
       "      <td>Wallet</td>\n",
       "      <td>111</td>\n",
       "      <td>111</td>\n",
       "    </tr>\n",
       "    <tr>\n",
       "      <th>3</th>\n",
       "      <td>T00004</td>\n",
       "      <td>C5012</td>\n",
       "      <td>Other</td>\n",
       "      <td>21</td>\n",
       "      <td>Hyderabad</td>\n",
       "      <td>Groceries</td>\n",
       "      <td>5</td>\n",
       "      <td>2946</td>\n",
       "      <td>2023-08-09</td>\n",
       "      <td>Cash</td>\n",
       "      <td>14730</td>\n",
       "      <td>14730</td>\n",
       "    </tr>\n",
       "    <tr>\n",
       "      <th>4</th>\n",
       "      <td>T00005</td>\n",
       "      <td>C4657</td>\n",
       "      <td>Female</td>\n",
       "      <td>41</td>\n",
       "      <td>Chennai</td>\n",
       "      <td>Sports</td>\n",
       "      <td>1</td>\n",
       "      <td>3123</td>\n",
       "      <td>2023-09-23</td>\n",
       "      <td>Wallet</td>\n",
       "      <td>3123</td>\n",
       "      <td>3123</td>\n",
       "    </tr>\n",
       "  </tbody>\n",
       "</table>\n",
       "</div>"
      ],
      "text/plain": [
       "  TransactionID CustomerID  Gender  Age       City ProductCategory  Quantity  \\\n",
       "0        T00001      C2824  Female   33  Bengaluru         Fashion         3   \n",
       "1        T00002      C1409   Other   20       Pune           Books         5   \n",
       "2        T00003      C5506   Other   47       Pune       Furniture         1   \n",
       "3        T00004      C5012   Other   21  Hyderabad       Groceries         5   \n",
       "4        T00005      C4657  Female   41    Chennai          Sports         1   \n",
       "\n",
       "   Price PurchaseDate PaymentMode  TotalAmount  CheckAmount  \n",
       "0   4479   2023-03-15        Cash        13437        13437  \n",
       "1   1051   2023-01-22        Card         5255         5255  \n",
       "2    111   2023-04-18      Wallet          111          111  \n",
       "3   2946   2023-08-09        Cash        14730        14730  \n",
       "4   3123   2023-09-23      Wallet         3123         3123  "
      ]
     },
     "execution_count": 848,
     "metadata": {},
     "output_type": "execute_result"
    }
   ],
   "source": [
    "df.head()"
   ]
  },
  {
   "cell_type": "code",
   "execution_count": 849,
   "id": "9a8bc9dd",
   "metadata": {},
   "outputs": [],
   "source": [
    "df['PurchaseDate']=pd.to_datetime(df['PurchaseDate'])"
   ]
  },
  {
   "cell_type": "code",
   "execution_count": 850,
   "id": "6a4d51b1",
   "metadata": {},
   "outputs": [
    {
     "data": {
      "text/html": [
       "<div>\n",
       "<style scoped>\n",
       "    .dataframe tbody tr th:only-of-type {\n",
       "        vertical-align: middle;\n",
       "    }\n",
       "\n",
       "    .dataframe tbody tr th {\n",
       "        vertical-align: top;\n",
       "    }\n",
       "\n",
       "    .dataframe thead th {\n",
       "        text-align: right;\n",
       "    }\n",
       "</style>\n",
       "<table border=\"1\" class=\"dataframe\">\n",
       "  <thead>\n",
       "    <tr style=\"text-align: right;\">\n",
       "      <th></th>\n",
       "      <th>TransactionID</th>\n",
       "      <th>CustomerID</th>\n",
       "      <th>Gender</th>\n",
       "      <th>Age</th>\n",
       "      <th>City</th>\n",
       "      <th>ProductCategory</th>\n",
       "      <th>Quantity</th>\n",
       "      <th>Price</th>\n",
       "      <th>PurchaseDate</th>\n",
       "      <th>PaymentMode</th>\n",
       "      <th>TotalAmount</th>\n",
       "      <th>CheckAmount</th>\n",
       "    </tr>\n",
       "  </thead>\n",
       "  <tbody>\n",
       "    <tr>\n",
       "      <th>0</th>\n",
       "      <td>T00001</td>\n",
       "      <td>C2824</td>\n",
       "      <td>Female</td>\n",
       "      <td>33</td>\n",
       "      <td>Bengaluru</td>\n",
       "      <td>Fashion</td>\n",
       "      <td>3</td>\n",
       "      <td>4479</td>\n",
       "      <td>2023-03-15</td>\n",
       "      <td>Cash</td>\n",
       "      <td>13437</td>\n",
       "      <td>13437</td>\n",
       "    </tr>\n",
       "    <tr>\n",
       "      <th>1</th>\n",
       "      <td>T00002</td>\n",
       "      <td>C1409</td>\n",
       "      <td>Other</td>\n",
       "      <td>20</td>\n",
       "      <td>Pune</td>\n",
       "      <td>Books</td>\n",
       "      <td>5</td>\n",
       "      <td>1051</td>\n",
       "      <td>2023-01-22</td>\n",
       "      <td>Card</td>\n",
       "      <td>5255</td>\n",
       "      <td>5255</td>\n",
       "    </tr>\n",
       "    <tr>\n",
       "      <th>2</th>\n",
       "      <td>T00003</td>\n",
       "      <td>C5506</td>\n",
       "      <td>Other</td>\n",
       "      <td>47</td>\n",
       "      <td>Pune</td>\n",
       "      <td>Furniture</td>\n",
       "      <td>1</td>\n",
       "      <td>111</td>\n",
       "      <td>2023-04-18</td>\n",
       "      <td>Wallet</td>\n",
       "      <td>111</td>\n",
       "      <td>111</td>\n",
       "    </tr>\n",
       "    <tr>\n",
       "      <th>3</th>\n",
       "      <td>T00004</td>\n",
       "      <td>C5012</td>\n",
       "      <td>Other</td>\n",
       "      <td>21</td>\n",
       "      <td>Hyderabad</td>\n",
       "      <td>Groceries</td>\n",
       "      <td>5</td>\n",
       "      <td>2946</td>\n",
       "      <td>2023-08-09</td>\n",
       "      <td>Cash</td>\n",
       "      <td>14730</td>\n",
       "      <td>14730</td>\n",
       "    </tr>\n",
       "    <tr>\n",
       "      <th>4</th>\n",
       "      <td>T00005</td>\n",
       "      <td>C4657</td>\n",
       "      <td>Female</td>\n",
       "      <td>41</td>\n",
       "      <td>Chennai</td>\n",
       "      <td>Sports</td>\n",
       "      <td>1</td>\n",
       "      <td>3123</td>\n",
       "      <td>2023-09-23</td>\n",
       "      <td>Wallet</td>\n",
       "      <td>3123</td>\n",
       "      <td>3123</td>\n",
       "    </tr>\n",
       "  </tbody>\n",
       "</table>\n",
       "</div>"
      ],
      "text/plain": [
       "  TransactionID CustomerID  Gender  Age       City ProductCategory  Quantity  \\\n",
       "0        T00001      C2824  Female   33  Bengaluru         Fashion         3   \n",
       "1        T00002      C1409   Other   20       Pune           Books         5   \n",
       "2        T00003      C5506   Other   47       Pune       Furniture         1   \n",
       "3        T00004      C5012   Other   21  Hyderabad       Groceries         5   \n",
       "4        T00005      C4657  Female   41    Chennai          Sports         1   \n",
       "\n",
       "   Price PurchaseDate PaymentMode  TotalAmount  CheckAmount  \n",
       "0   4479   2023-03-15        Cash        13437        13437  \n",
       "1   1051   2023-01-22        Card         5255         5255  \n",
       "2    111   2023-04-18      Wallet          111          111  \n",
       "3   2946   2023-08-09        Cash        14730        14730  \n",
       "4   3123   2023-09-23      Wallet         3123         3123  "
      ]
     },
     "execution_count": 850,
     "metadata": {},
     "output_type": "execute_result"
    }
   ],
   "source": [
    "df.head()"
   ]
  },
  {
   "cell_type": "code",
   "execution_count": 851,
   "id": "c2d192e6",
   "metadata": {},
   "outputs": [],
   "source": [
    "df['PurchaseMonth']=df['PurchaseDate'].dt.month"
   ]
  },
  {
   "cell_type": "code",
   "execution_count": 852,
   "id": "fdd2c042",
   "metadata": {},
   "outputs": [
    {
     "data": {
      "text/html": [
       "<div>\n",
       "<style scoped>\n",
       "    .dataframe tbody tr th:only-of-type {\n",
       "        vertical-align: middle;\n",
       "    }\n",
       "\n",
       "    .dataframe tbody tr th {\n",
       "        vertical-align: top;\n",
       "    }\n",
       "\n",
       "    .dataframe thead th {\n",
       "        text-align: right;\n",
       "    }\n",
       "</style>\n",
       "<table border=\"1\" class=\"dataframe\">\n",
       "  <thead>\n",
       "    <tr style=\"text-align: right;\">\n",
       "      <th></th>\n",
       "      <th>TransactionID</th>\n",
       "      <th>CustomerID</th>\n",
       "      <th>Gender</th>\n",
       "      <th>Age</th>\n",
       "      <th>City</th>\n",
       "      <th>ProductCategory</th>\n",
       "      <th>Quantity</th>\n",
       "      <th>Price</th>\n",
       "      <th>PurchaseDate</th>\n",
       "      <th>PaymentMode</th>\n",
       "      <th>TotalAmount</th>\n",
       "      <th>CheckAmount</th>\n",
       "      <th>PurchaseMonth</th>\n",
       "    </tr>\n",
       "  </thead>\n",
       "  <tbody>\n",
       "    <tr>\n",
       "      <th>0</th>\n",
       "      <td>T00001</td>\n",
       "      <td>C2824</td>\n",
       "      <td>Female</td>\n",
       "      <td>33</td>\n",
       "      <td>Bengaluru</td>\n",
       "      <td>Fashion</td>\n",
       "      <td>3</td>\n",
       "      <td>4479</td>\n",
       "      <td>2023-03-15</td>\n",
       "      <td>Cash</td>\n",
       "      <td>13437</td>\n",
       "      <td>13437</td>\n",
       "      <td>3</td>\n",
       "    </tr>\n",
       "    <tr>\n",
       "      <th>1</th>\n",
       "      <td>T00002</td>\n",
       "      <td>C1409</td>\n",
       "      <td>Other</td>\n",
       "      <td>20</td>\n",
       "      <td>Pune</td>\n",
       "      <td>Books</td>\n",
       "      <td>5</td>\n",
       "      <td>1051</td>\n",
       "      <td>2023-01-22</td>\n",
       "      <td>Card</td>\n",
       "      <td>5255</td>\n",
       "      <td>5255</td>\n",
       "      <td>1</td>\n",
       "    </tr>\n",
       "    <tr>\n",
       "      <th>2</th>\n",
       "      <td>T00003</td>\n",
       "      <td>C5506</td>\n",
       "      <td>Other</td>\n",
       "      <td>47</td>\n",
       "      <td>Pune</td>\n",
       "      <td>Furniture</td>\n",
       "      <td>1</td>\n",
       "      <td>111</td>\n",
       "      <td>2023-04-18</td>\n",
       "      <td>Wallet</td>\n",
       "      <td>111</td>\n",
       "      <td>111</td>\n",
       "      <td>4</td>\n",
       "    </tr>\n",
       "    <tr>\n",
       "      <th>3</th>\n",
       "      <td>T00004</td>\n",
       "      <td>C5012</td>\n",
       "      <td>Other</td>\n",
       "      <td>21</td>\n",
       "      <td>Hyderabad</td>\n",
       "      <td>Groceries</td>\n",
       "      <td>5</td>\n",
       "      <td>2946</td>\n",
       "      <td>2023-08-09</td>\n",
       "      <td>Cash</td>\n",
       "      <td>14730</td>\n",
       "      <td>14730</td>\n",
       "      <td>8</td>\n",
       "    </tr>\n",
       "    <tr>\n",
       "      <th>4</th>\n",
       "      <td>T00005</td>\n",
       "      <td>C4657</td>\n",
       "      <td>Female</td>\n",
       "      <td>41</td>\n",
       "      <td>Chennai</td>\n",
       "      <td>Sports</td>\n",
       "      <td>1</td>\n",
       "      <td>3123</td>\n",
       "      <td>2023-09-23</td>\n",
       "      <td>Wallet</td>\n",
       "      <td>3123</td>\n",
       "      <td>3123</td>\n",
       "      <td>9</td>\n",
       "    </tr>\n",
       "  </tbody>\n",
       "</table>\n",
       "</div>"
      ],
      "text/plain": [
       "  TransactionID CustomerID  Gender  Age       City ProductCategory  Quantity  \\\n",
       "0        T00001      C2824  Female   33  Bengaluru         Fashion         3   \n",
       "1        T00002      C1409   Other   20       Pune           Books         5   \n",
       "2        T00003      C5506   Other   47       Pune       Furniture         1   \n",
       "3        T00004      C5012   Other   21  Hyderabad       Groceries         5   \n",
       "4        T00005      C4657  Female   41    Chennai          Sports         1   \n",
       "\n",
       "   Price PurchaseDate PaymentMode  TotalAmount  CheckAmount  PurchaseMonth  \n",
       "0   4479   2023-03-15        Cash        13437        13437              3  \n",
       "1   1051   2023-01-22        Card         5255         5255              1  \n",
       "2    111   2023-04-18      Wallet          111          111              4  \n",
       "3   2946   2023-08-09        Cash        14730        14730              8  \n",
       "4   3123   2023-09-23      Wallet         3123         3123              9  "
      ]
     },
     "execution_count": 852,
     "metadata": {},
     "output_type": "execute_result"
    }
   ],
   "source": [
    "df.head()"
   ]
  },
  {
   "cell_type": "code",
   "execution_count": 853,
   "id": "36095897",
   "metadata": {},
   "outputs": [],
   "source": [
    "df['PurchaseDayOfWeek']=df['PurchaseDate'].dt.dayofweek"
   ]
  },
  {
   "cell_type": "code",
   "execution_count": 854,
   "id": "c7f369dc",
   "metadata": {},
   "outputs": [
    {
     "data": {
      "text/html": [
       "<div>\n",
       "<style scoped>\n",
       "    .dataframe tbody tr th:only-of-type {\n",
       "        vertical-align: middle;\n",
       "    }\n",
       "\n",
       "    .dataframe tbody tr th {\n",
       "        vertical-align: top;\n",
       "    }\n",
       "\n",
       "    .dataframe thead th {\n",
       "        text-align: right;\n",
       "    }\n",
       "</style>\n",
       "<table border=\"1\" class=\"dataframe\">\n",
       "  <thead>\n",
       "    <tr style=\"text-align: right;\">\n",
       "      <th></th>\n",
       "      <th>TransactionID</th>\n",
       "      <th>CustomerID</th>\n",
       "      <th>Gender</th>\n",
       "      <th>Age</th>\n",
       "      <th>City</th>\n",
       "      <th>ProductCategory</th>\n",
       "      <th>Quantity</th>\n",
       "      <th>Price</th>\n",
       "      <th>PurchaseDate</th>\n",
       "      <th>PaymentMode</th>\n",
       "      <th>TotalAmount</th>\n",
       "      <th>CheckAmount</th>\n",
       "      <th>PurchaseMonth</th>\n",
       "      <th>PurchaseDayOfWeek</th>\n",
       "    </tr>\n",
       "  </thead>\n",
       "  <tbody>\n",
       "    <tr>\n",
       "      <th>0</th>\n",
       "      <td>T00001</td>\n",
       "      <td>C2824</td>\n",
       "      <td>Female</td>\n",
       "      <td>33</td>\n",
       "      <td>Bengaluru</td>\n",
       "      <td>Fashion</td>\n",
       "      <td>3</td>\n",
       "      <td>4479</td>\n",
       "      <td>2023-03-15</td>\n",
       "      <td>Cash</td>\n",
       "      <td>13437</td>\n",
       "      <td>13437</td>\n",
       "      <td>3</td>\n",
       "      <td>2</td>\n",
       "    </tr>\n",
       "    <tr>\n",
       "      <th>1</th>\n",
       "      <td>T00002</td>\n",
       "      <td>C1409</td>\n",
       "      <td>Other</td>\n",
       "      <td>20</td>\n",
       "      <td>Pune</td>\n",
       "      <td>Books</td>\n",
       "      <td>5</td>\n",
       "      <td>1051</td>\n",
       "      <td>2023-01-22</td>\n",
       "      <td>Card</td>\n",
       "      <td>5255</td>\n",
       "      <td>5255</td>\n",
       "      <td>1</td>\n",
       "      <td>6</td>\n",
       "    </tr>\n",
       "    <tr>\n",
       "      <th>2</th>\n",
       "      <td>T00003</td>\n",
       "      <td>C5506</td>\n",
       "      <td>Other</td>\n",
       "      <td>47</td>\n",
       "      <td>Pune</td>\n",
       "      <td>Furniture</td>\n",
       "      <td>1</td>\n",
       "      <td>111</td>\n",
       "      <td>2023-04-18</td>\n",
       "      <td>Wallet</td>\n",
       "      <td>111</td>\n",
       "      <td>111</td>\n",
       "      <td>4</td>\n",
       "      <td>1</td>\n",
       "    </tr>\n",
       "    <tr>\n",
       "      <th>3</th>\n",
       "      <td>T00004</td>\n",
       "      <td>C5012</td>\n",
       "      <td>Other</td>\n",
       "      <td>21</td>\n",
       "      <td>Hyderabad</td>\n",
       "      <td>Groceries</td>\n",
       "      <td>5</td>\n",
       "      <td>2946</td>\n",
       "      <td>2023-08-09</td>\n",
       "      <td>Cash</td>\n",
       "      <td>14730</td>\n",
       "      <td>14730</td>\n",
       "      <td>8</td>\n",
       "      <td>2</td>\n",
       "    </tr>\n",
       "    <tr>\n",
       "      <th>4</th>\n",
       "      <td>T00005</td>\n",
       "      <td>C4657</td>\n",
       "      <td>Female</td>\n",
       "      <td>41</td>\n",
       "      <td>Chennai</td>\n",
       "      <td>Sports</td>\n",
       "      <td>1</td>\n",
       "      <td>3123</td>\n",
       "      <td>2023-09-23</td>\n",
       "      <td>Wallet</td>\n",
       "      <td>3123</td>\n",
       "      <td>3123</td>\n",
       "      <td>9</td>\n",
       "      <td>5</td>\n",
       "    </tr>\n",
       "  </tbody>\n",
       "</table>\n",
       "</div>"
      ],
      "text/plain": [
       "  TransactionID CustomerID  Gender  Age       City ProductCategory  Quantity  \\\n",
       "0        T00001      C2824  Female   33  Bengaluru         Fashion         3   \n",
       "1        T00002      C1409   Other   20       Pune           Books         5   \n",
       "2        T00003      C5506   Other   47       Pune       Furniture         1   \n",
       "3        T00004      C5012   Other   21  Hyderabad       Groceries         5   \n",
       "4        T00005      C4657  Female   41    Chennai          Sports         1   \n",
       "\n",
       "   Price PurchaseDate PaymentMode  TotalAmount  CheckAmount  PurchaseMonth  \\\n",
       "0   4479   2023-03-15        Cash        13437        13437              3   \n",
       "1   1051   2023-01-22        Card         5255         5255              1   \n",
       "2    111   2023-04-18      Wallet          111          111              4   \n",
       "3   2946   2023-08-09        Cash        14730        14730              8   \n",
       "4   3123   2023-09-23      Wallet         3123         3123              9   \n",
       "\n",
       "   PurchaseDayOfWeek  \n",
       "0                  2  \n",
       "1                  6  \n",
       "2                  1  \n",
       "3                  2  \n",
       "4                  5  "
      ]
     },
     "execution_count": 854,
     "metadata": {},
     "output_type": "execute_result"
    }
   ],
   "source": [
    "df.head()"
   ]
  },
  {
   "cell_type": "code",
   "execution_count": 855,
   "id": "2447a6db",
   "metadata": {},
   "outputs": [],
   "source": [
    "bins=[0,25,40,60,120]\n",
    "labels=['18-25', '26-40', '41-60', '60+']\n",
    "df['AgeGroup']=pd.cut(df['Age'], bins=bins, labels=labels, right=True)"
   ]
  },
  {
   "cell_type": "code",
   "execution_count": 856,
   "id": "abf4db85",
   "metadata": {},
   "outputs": [
    {
     "data": {
      "text/html": [
       "<div>\n",
       "<style scoped>\n",
       "    .dataframe tbody tr th:only-of-type {\n",
       "        vertical-align: middle;\n",
       "    }\n",
       "\n",
       "    .dataframe tbody tr th {\n",
       "        vertical-align: top;\n",
       "    }\n",
       "\n",
       "    .dataframe thead th {\n",
       "        text-align: right;\n",
       "    }\n",
       "</style>\n",
       "<table border=\"1\" class=\"dataframe\">\n",
       "  <thead>\n",
       "    <tr style=\"text-align: right;\">\n",
       "      <th></th>\n",
       "      <th>TransactionID</th>\n",
       "      <th>CustomerID</th>\n",
       "      <th>Gender</th>\n",
       "      <th>Age</th>\n",
       "      <th>City</th>\n",
       "      <th>ProductCategory</th>\n",
       "      <th>Quantity</th>\n",
       "      <th>Price</th>\n",
       "      <th>PurchaseDate</th>\n",
       "      <th>PaymentMode</th>\n",
       "      <th>TotalAmount</th>\n",
       "      <th>CheckAmount</th>\n",
       "      <th>PurchaseMonth</th>\n",
       "      <th>PurchaseDayOfWeek</th>\n",
       "      <th>AgeGroup</th>\n",
       "    </tr>\n",
       "  </thead>\n",
       "  <tbody>\n",
       "    <tr>\n",
       "      <th>0</th>\n",
       "      <td>T00001</td>\n",
       "      <td>C2824</td>\n",
       "      <td>Female</td>\n",
       "      <td>33</td>\n",
       "      <td>Bengaluru</td>\n",
       "      <td>Fashion</td>\n",
       "      <td>3</td>\n",
       "      <td>4479</td>\n",
       "      <td>2023-03-15</td>\n",
       "      <td>Cash</td>\n",
       "      <td>13437</td>\n",
       "      <td>13437</td>\n",
       "      <td>3</td>\n",
       "      <td>2</td>\n",
       "      <td>26-40</td>\n",
       "    </tr>\n",
       "    <tr>\n",
       "      <th>1</th>\n",
       "      <td>T00002</td>\n",
       "      <td>C1409</td>\n",
       "      <td>Other</td>\n",
       "      <td>20</td>\n",
       "      <td>Pune</td>\n",
       "      <td>Books</td>\n",
       "      <td>5</td>\n",
       "      <td>1051</td>\n",
       "      <td>2023-01-22</td>\n",
       "      <td>Card</td>\n",
       "      <td>5255</td>\n",
       "      <td>5255</td>\n",
       "      <td>1</td>\n",
       "      <td>6</td>\n",
       "      <td>18-25</td>\n",
       "    </tr>\n",
       "    <tr>\n",
       "      <th>2</th>\n",
       "      <td>T00003</td>\n",
       "      <td>C5506</td>\n",
       "      <td>Other</td>\n",
       "      <td>47</td>\n",
       "      <td>Pune</td>\n",
       "      <td>Furniture</td>\n",
       "      <td>1</td>\n",
       "      <td>111</td>\n",
       "      <td>2023-04-18</td>\n",
       "      <td>Wallet</td>\n",
       "      <td>111</td>\n",
       "      <td>111</td>\n",
       "      <td>4</td>\n",
       "      <td>1</td>\n",
       "      <td>41-60</td>\n",
       "    </tr>\n",
       "    <tr>\n",
       "      <th>3</th>\n",
       "      <td>T00004</td>\n",
       "      <td>C5012</td>\n",
       "      <td>Other</td>\n",
       "      <td>21</td>\n",
       "      <td>Hyderabad</td>\n",
       "      <td>Groceries</td>\n",
       "      <td>5</td>\n",
       "      <td>2946</td>\n",
       "      <td>2023-08-09</td>\n",
       "      <td>Cash</td>\n",
       "      <td>14730</td>\n",
       "      <td>14730</td>\n",
       "      <td>8</td>\n",
       "      <td>2</td>\n",
       "      <td>18-25</td>\n",
       "    </tr>\n",
       "    <tr>\n",
       "      <th>4</th>\n",
       "      <td>T00005</td>\n",
       "      <td>C4657</td>\n",
       "      <td>Female</td>\n",
       "      <td>41</td>\n",
       "      <td>Chennai</td>\n",
       "      <td>Sports</td>\n",
       "      <td>1</td>\n",
       "      <td>3123</td>\n",
       "      <td>2023-09-23</td>\n",
       "      <td>Wallet</td>\n",
       "      <td>3123</td>\n",
       "      <td>3123</td>\n",
       "      <td>9</td>\n",
       "      <td>5</td>\n",
       "      <td>41-60</td>\n",
       "    </tr>\n",
       "  </tbody>\n",
       "</table>\n",
       "</div>"
      ],
      "text/plain": [
       "  TransactionID CustomerID  Gender  Age       City ProductCategory  Quantity  \\\n",
       "0        T00001      C2824  Female   33  Bengaluru         Fashion         3   \n",
       "1        T00002      C1409   Other   20       Pune           Books         5   \n",
       "2        T00003      C5506   Other   47       Pune       Furniture         1   \n",
       "3        T00004      C5012   Other   21  Hyderabad       Groceries         5   \n",
       "4        T00005      C4657  Female   41    Chennai          Sports         1   \n",
       "\n",
       "   Price PurchaseDate PaymentMode  TotalAmount  CheckAmount  PurchaseMonth  \\\n",
       "0   4479   2023-03-15        Cash        13437        13437              3   \n",
       "1   1051   2023-01-22        Card         5255         5255              1   \n",
       "2    111   2023-04-18      Wallet          111          111              4   \n",
       "3   2946   2023-08-09        Cash        14730        14730              8   \n",
       "4   3123   2023-09-23      Wallet         3123         3123              9   \n",
       "\n",
       "   PurchaseDayOfWeek AgeGroup  \n",
       "0                  2    26-40  \n",
       "1                  6    18-25  \n",
       "2                  1    41-60  \n",
       "3                  2    18-25  \n",
       "4                  5    41-60  "
      ]
     },
     "execution_count": 856,
     "metadata": {},
     "output_type": "execute_result"
    }
   ],
   "source": [
    "df.head()"
   ]
  },
  {
   "cell_type": "code",
   "execution_count": 857,
   "id": "fc3096fe",
   "metadata": {},
   "outputs": [],
   "source": [
    "df.drop('TransactionID', axis=1, inplace=True)"
   ]
  },
  {
   "cell_type": "code",
   "execution_count": 858,
   "id": "cf544fdd",
   "metadata": {},
   "outputs": [],
   "source": [
    "from sklearn.preprocessing import LabelEncoder\n",
    "le=LabelEncoder()\n",
    "df['Gender']=le.fit_transform(df['Gender'])"
   ]
  },
  {
   "cell_type": "code",
   "execution_count": 859,
   "id": "27409580",
   "metadata": {},
   "outputs": [],
   "source": [
    "df=pd.get_dummies(df, columns=['City', 'ProductCategory', 'PaymentMode', 'AgeGroup'], drop_first=False)"
   ]
  },
  {
   "cell_type": "code",
   "execution_count": 860,
   "id": "75c6a043",
   "metadata": {},
   "outputs": [
    {
     "data": {
      "text/html": [
       "<div>\n",
       "<style scoped>\n",
       "    .dataframe tbody tr th:only-of-type {\n",
       "        vertical-align: middle;\n",
       "    }\n",
       "\n",
       "    .dataframe tbody tr th {\n",
       "        vertical-align: top;\n",
       "    }\n",
       "\n",
       "    .dataframe thead th {\n",
       "        text-align: right;\n",
       "    }\n",
       "</style>\n",
       "<table border=\"1\" class=\"dataframe\">\n",
       "  <thead>\n",
       "    <tr style=\"text-align: right;\">\n",
       "      <th></th>\n",
       "      <th>CustomerID</th>\n",
       "      <th>Gender</th>\n",
       "      <th>Age</th>\n",
       "      <th>Quantity</th>\n",
       "      <th>Price</th>\n",
       "      <th>PurchaseDate</th>\n",
       "      <th>TotalAmount</th>\n",
       "      <th>CheckAmount</th>\n",
       "      <th>PurchaseMonth</th>\n",
       "      <th>PurchaseDayOfWeek</th>\n",
       "      <th>...</th>\n",
       "      <th>ProductCategory_Groceries</th>\n",
       "      <th>ProductCategory_Sports</th>\n",
       "      <th>PaymentMode_Card</th>\n",
       "      <th>PaymentMode_Cash</th>\n",
       "      <th>PaymentMode_Upi</th>\n",
       "      <th>PaymentMode_Wallet</th>\n",
       "      <th>AgeGroup_18-25</th>\n",
       "      <th>AgeGroup_26-40</th>\n",
       "      <th>AgeGroup_41-60</th>\n",
       "      <th>AgeGroup_60+</th>\n",
       "    </tr>\n",
       "  </thead>\n",
       "  <tbody>\n",
       "    <tr>\n",
       "      <th>0</th>\n",
       "      <td>C2824</td>\n",
       "      <td>0</td>\n",
       "      <td>33</td>\n",
       "      <td>3</td>\n",
       "      <td>4479</td>\n",
       "      <td>2023-03-15</td>\n",
       "      <td>13437</td>\n",
       "      <td>13437</td>\n",
       "      <td>3</td>\n",
       "      <td>2</td>\n",
       "      <td>...</td>\n",
       "      <td>False</td>\n",
       "      <td>False</td>\n",
       "      <td>False</td>\n",
       "      <td>True</td>\n",
       "      <td>False</td>\n",
       "      <td>False</td>\n",
       "      <td>False</td>\n",
       "      <td>True</td>\n",
       "      <td>False</td>\n",
       "      <td>False</td>\n",
       "    </tr>\n",
       "    <tr>\n",
       "      <th>1</th>\n",
       "      <td>C1409</td>\n",
       "      <td>2</td>\n",
       "      <td>20</td>\n",
       "      <td>5</td>\n",
       "      <td>1051</td>\n",
       "      <td>2023-01-22</td>\n",
       "      <td>5255</td>\n",
       "      <td>5255</td>\n",
       "      <td>1</td>\n",
       "      <td>6</td>\n",
       "      <td>...</td>\n",
       "      <td>False</td>\n",
       "      <td>False</td>\n",
       "      <td>True</td>\n",
       "      <td>False</td>\n",
       "      <td>False</td>\n",
       "      <td>False</td>\n",
       "      <td>True</td>\n",
       "      <td>False</td>\n",
       "      <td>False</td>\n",
       "      <td>False</td>\n",
       "    </tr>\n",
       "    <tr>\n",
       "      <th>2</th>\n",
       "      <td>C5506</td>\n",
       "      <td>2</td>\n",
       "      <td>47</td>\n",
       "      <td>1</td>\n",
       "      <td>111</td>\n",
       "      <td>2023-04-18</td>\n",
       "      <td>111</td>\n",
       "      <td>111</td>\n",
       "      <td>4</td>\n",
       "      <td>1</td>\n",
       "      <td>...</td>\n",
       "      <td>False</td>\n",
       "      <td>False</td>\n",
       "      <td>False</td>\n",
       "      <td>False</td>\n",
       "      <td>False</td>\n",
       "      <td>True</td>\n",
       "      <td>False</td>\n",
       "      <td>False</td>\n",
       "      <td>True</td>\n",
       "      <td>False</td>\n",
       "    </tr>\n",
       "    <tr>\n",
       "      <th>3</th>\n",
       "      <td>C5012</td>\n",
       "      <td>2</td>\n",
       "      <td>21</td>\n",
       "      <td>5</td>\n",
       "      <td>2946</td>\n",
       "      <td>2023-08-09</td>\n",
       "      <td>14730</td>\n",
       "      <td>14730</td>\n",
       "      <td>8</td>\n",
       "      <td>2</td>\n",
       "      <td>...</td>\n",
       "      <td>True</td>\n",
       "      <td>False</td>\n",
       "      <td>False</td>\n",
       "      <td>True</td>\n",
       "      <td>False</td>\n",
       "      <td>False</td>\n",
       "      <td>True</td>\n",
       "      <td>False</td>\n",
       "      <td>False</td>\n",
       "      <td>False</td>\n",
       "    </tr>\n",
       "    <tr>\n",
       "      <th>4</th>\n",
       "      <td>C4657</td>\n",
       "      <td>0</td>\n",
       "      <td>41</td>\n",
       "      <td>1</td>\n",
       "      <td>3123</td>\n",
       "      <td>2023-09-23</td>\n",
       "      <td>3123</td>\n",
       "      <td>3123</td>\n",
       "      <td>9</td>\n",
       "      <td>5</td>\n",
       "      <td>...</td>\n",
       "      <td>False</td>\n",
       "      <td>True</td>\n",
       "      <td>False</td>\n",
       "      <td>False</td>\n",
       "      <td>False</td>\n",
       "      <td>True</td>\n",
       "      <td>False</td>\n",
       "      <td>False</td>\n",
       "      <td>True</td>\n",
       "      <td>False</td>\n",
       "    </tr>\n",
       "  </tbody>\n",
       "</table>\n",
       "<p>5 rows × 35 columns</p>\n",
       "</div>"
      ],
      "text/plain": [
       "  CustomerID  Gender  Age  Quantity  Price PurchaseDate  TotalAmount  \\\n",
       "0      C2824       0   33         3   4479   2023-03-15        13437   \n",
       "1      C1409       2   20         5   1051   2023-01-22         5255   \n",
       "2      C5506       2   47         1    111   2023-04-18          111   \n",
       "3      C5012       2   21         5   2946   2023-08-09        14730   \n",
       "4      C4657       0   41         1   3123   2023-09-23         3123   \n",
       "\n",
       "   CheckAmount  PurchaseMonth  PurchaseDayOfWeek  ...  \\\n",
       "0        13437              3                  2  ...   \n",
       "1         5255              1                  6  ...   \n",
       "2          111              4                  1  ...   \n",
       "3        14730              8                  2  ...   \n",
       "4         3123              9                  5  ...   \n",
       "\n",
       "   ProductCategory_Groceries  ProductCategory_Sports  PaymentMode_Card  \\\n",
       "0                      False                   False             False   \n",
       "1                      False                   False              True   \n",
       "2                      False                   False             False   \n",
       "3                       True                   False             False   \n",
       "4                      False                    True             False   \n",
       "\n",
       "   PaymentMode_Cash  PaymentMode_Upi  PaymentMode_Wallet  AgeGroup_18-25  \\\n",
       "0              True            False               False           False   \n",
       "1             False            False               False            True   \n",
       "2             False            False                True           False   \n",
       "3              True            False               False            True   \n",
       "4             False            False                True           False   \n",
       "\n",
       "   AgeGroup_26-40  AgeGroup_41-60  AgeGroup_60+  \n",
       "0            True           False         False  \n",
       "1           False           False         False  \n",
       "2           False            True         False  \n",
       "3           False           False         False  \n",
       "4           False            True         False  \n",
       "\n",
       "[5 rows x 35 columns]"
      ]
     },
     "execution_count": 860,
     "metadata": {},
     "output_type": "execute_result"
    }
   ],
   "source": [
    "df.head()"
   ]
  },
  {
   "cell_type": "code",
   "execution_count": 861,
   "id": "50b54c37",
   "metadata": {},
   "outputs": [
    {
     "data": {
      "text/plain": [
       "(2000, 35)"
      ]
     },
     "execution_count": 861,
     "metadata": {},
     "output_type": "execute_result"
    }
   ],
   "source": [
    "df.shape"
   ]
  },
  {
   "cell_type": "code",
   "execution_count": 862,
   "id": "d87c5978",
   "metadata": {},
   "outputs": [
    {
     "name": "stdout",
     "output_type": "stream",
     "text": [
      "<class 'pandas.core.frame.DataFrame'>\n",
      "RangeIndex: 2000 entries, 0 to 1999\n",
      "Data columns (total 35 columns):\n",
      " #   Column                       Non-Null Count  Dtype         \n",
      "---  ------                       --------------  -----         \n",
      " 0   CustomerID                   2000 non-null   object        \n",
      " 1   Gender                       2000 non-null   int64         \n",
      " 2   Age                          2000 non-null   int64         \n",
      " 3   Quantity                     2000 non-null   int64         \n",
      " 4   Price                        2000 non-null   int64         \n",
      " 5   PurchaseDate                 2000 non-null   datetime64[ns]\n",
      " 6   TotalAmount                  2000 non-null   int64         \n",
      " 7   CheckAmount                  2000 non-null   int64         \n",
      " 8   PurchaseMonth                2000 non-null   int32         \n",
      " 9   PurchaseDayOfWeek            2000 non-null   int32         \n",
      " 10  City_Ahmedabad               2000 non-null   bool          \n",
      " 11  City_Bengaluru               2000 non-null   bool          \n",
      " 12  City_Chennai                 2000 non-null   bool          \n",
      " 13  City_Delhi                   2000 non-null   bool          \n",
      " 14  City_Hyderabad               2000 non-null   bool          \n",
      " 15  City_Jaipur                  2000 non-null   bool          \n",
      " 16  City_Kolkata                 2000 non-null   bool          \n",
      " 17  City_Lucknow                 2000 non-null   bool          \n",
      " 18  City_Mumbai                  2000 non-null   bool          \n",
      " 19  City_Pune                    2000 non-null   bool          \n",
      " 20  ProductCategory_Beauty       2000 non-null   bool          \n",
      " 21  ProductCategory_Books        2000 non-null   bool          \n",
      " 22  ProductCategory_Electronics  2000 non-null   bool          \n",
      " 23  ProductCategory_Fashion      2000 non-null   bool          \n",
      " 24  ProductCategory_Furniture    2000 non-null   bool          \n",
      " 25  ProductCategory_Groceries    2000 non-null   bool          \n",
      " 26  ProductCategory_Sports       2000 non-null   bool          \n",
      " 27  PaymentMode_Card             2000 non-null   bool          \n",
      " 28  PaymentMode_Cash             2000 non-null   bool          \n",
      " 29  PaymentMode_Upi              2000 non-null   bool          \n",
      " 30  PaymentMode_Wallet           2000 non-null   bool          \n",
      " 31  AgeGroup_18-25               2000 non-null   bool          \n",
      " 32  AgeGroup_26-40               2000 non-null   bool          \n",
      " 33  AgeGroup_41-60               2000 non-null   bool          \n",
      " 34  AgeGroup_60+                 2000 non-null   bool          \n",
      "dtypes: bool(25), datetime64[ns](1), int32(2), int64(6), object(1)\n",
      "memory usage: 189.6+ KB\n"
     ]
    }
   ],
   "source": [
    "df.info()"
   ]
  },
  {
   "cell_type": "code",
   "execution_count": 863,
   "id": "ad733e55",
   "metadata": {},
   "outputs": [
    {
     "name": "stdout",
     "output_type": "stream",
     "text": [
      "Categorical columns to encode: Index(['CustomerID', 'City_Ahmedabad', 'City_Bengaluru', 'City_Chennai',\n",
      "       'City_Delhi', 'City_Hyderabad', 'City_Jaipur', 'City_Kolkata',\n",
      "       'City_Lucknow', 'City_Mumbai', 'City_Pune', 'ProductCategory_Beauty',\n",
      "       'ProductCategory_Books', 'ProductCategory_Electronics',\n",
      "       'ProductCategory_Fashion', 'ProductCategory_Furniture',\n",
      "       'ProductCategory_Groceries', 'ProductCategory_Sports',\n",
      "       'PaymentMode_Card', 'PaymentMode_Cash', 'PaymentMode_Upi',\n",
      "       'PaymentMode_Wallet', 'AgeGroup_18-25', 'AgeGroup_26-40',\n",
      "       'AgeGroup_41-60', 'AgeGroup_60+'],\n",
      "      dtype='object')\n"
     ]
    }
   ],
   "source": [
    "cat_cols = df.select_dtypes(include=['object', 'bool']).columns\n",
    "print(\"Categorical columns to encode:\", cat_cols)\n",
    "le = LabelEncoder()\n",
    "for col in cat_cols:\n",
    "    df[col] = le.fit_transform(df[col])"
   ]
  },
  {
   "cell_type": "code",
   "execution_count": 864,
   "id": "66dc26b6",
   "metadata": {},
   "outputs": [
    {
     "name": "stdout",
     "output_type": "stream",
     "text": [
      "Numeric columns to scale: ['CustomerID', 'Gender', 'Age', 'Quantity', 'Price', 'TotalAmount', 'CheckAmount', 'City_Ahmedabad', 'City_Bengaluru', 'City_Chennai', 'City_Delhi', 'City_Hyderabad', 'City_Jaipur', 'City_Kolkata', 'City_Lucknow', 'City_Mumbai', 'City_Pune', 'ProductCategory_Beauty', 'ProductCategory_Books', 'ProductCategory_Electronics', 'ProductCategory_Fashion', 'ProductCategory_Furniture', 'ProductCategory_Groceries', 'ProductCategory_Sports', 'PaymentMode_Card', 'PaymentMode_Cash', 'PaymentMode_Upi', 'PaymentMode_Wallet', 'AgeGroup_18-25', 'AgeGroup_26-40', 'AgeGroup_41-60', 'AgeGroup_60+']\n"
     ]
    }
   ],
   "source": [
    "from sklearn.preprocessing import MinMaxScaler\n",
    "num_cols = df.select_dtypes(include=['int64', 'float64']).columns\n",
    "print(\"Numeric columns to scale:\", list(num_cols))\n",
    "scaler = MinMaxScaler()\n",
    "df[num_cols] = scaler.fit_transform(df[num_cols])"
   ]
  },
  {
   "cell_type": "code",
   "execution_count": 865,
   "id": "b978a0ab",
   "metadata": {},
   "outputs": [
    {
     "data": {
      "text/html": [
       "<div>\n",
       "<style scoped>\n",
       "    .dataframe tbody tr th:only-of-type {\n",
       "        vertical-align: middle;\n",
       "    }\n",
       "\n",
       "    .dataframe tbody tr th {\n",
       "        vertical-align: top;\n",
       "    }\n",
       "\n",
       "    .dataframe thead th {\n",
       "        text-align: right;\n",
       "    }\n",
       "</style>\n",
       "<table border=\"1\" class=\"dataframe\">\n",
       "  <thead>\n",
       "    <tr style=\"text-align: right;\">\n",
       "      <th></th>\n",
       "      <th>CustomerID</th>\n",
       "      <th>Gender</th>\n",
       "      <th>Age</th>\n",
       "      <th>Quantity</th>\n",
       "      <th>Price</th>\n",
       "      <th>PurchaseDate</th>\n",
       "      <th>TotalAmount</th>\n",
       "      <th>CheckAmount</th>\n",
       "      <th>PurchaseMonth</th>\n",
       "      <th>PurchaseDayOfWeek</th>\n",
       "      <th>...</th>\n",
       "      <th>ProductCategory_Groceries</th>\n",
       "      <th>ProductCategory_Sports</th>\n",
       "      <th>PaymentMode_Card</th>\n",
       "      <th>PaymentMode_Cash</th>\n",
       "      <th>PaymentMode_Upi</th>\n",
       "      <th>PaymentMode_Wallet</th>\n",
       "      <th>AgeGroup_18-25</th>\n",
       "      <th>AgeGroup_26-40</th>\n",
       "      <th>AgeGroup_41-60</th>\n",
       "      <th>AgeGroup_60+</th>\n",
       "    </tr>\n",
       "  </thead>\n",
       "  <tbody>\n",
       "    <tr>\n",
       "      <th>0</th>\n",
       "      <td>0.197003</td>\n",
       "      <td>0.0</td>\n",
       "      <td>0.288462</td>\n",
       "      <td>0.5</td>\n",
       "      <td>0.893673</td>\n",
       "      <td>2023-03-15</td>\n",
       "      <td>0.536495</td>\n",
       "      <td>0.536495</td>\n",
       "      <td>3</td>\n",
       "      <td>2</td>\n",
       "      <td>...</td>\n",
       "      <td>0.0</td>\n",
       "      <td>0.0</td>\n",
       "      <td>0.0</td>\n",
       "      <td>1.0</td>\n",
       "      <td>0.0</td>\n",
       "      <td>0.0</td>\n",
       "      <td>0.0</td>\n",
       "      <td>1.0</td>\n",
       "      <td>0.0</td>\n",
       "      <td>0.0</td>\n",
       "    </tr>\n",
       "    <tr>\n",
       "      <th>1</th>\n",
       "      <td>0.032741</td>\n",
       "      <td>1.0</td>\n",
       "      <td>0.038462</td>\n",
       "      <td>1.0</td>\n",
       "      <td>0.194082</td>\n",
       "      <td>2023-01-22</td>\n",
       "      <td>0.207094</td>\n",
       "      <td>0.207094</td>\n",
       "      <td>1</td>\n",
       "      <td>6</td>\n",
       "      <td>...</td>\n",
       "      <td>0.0</td>\n",
       "      <td>0.0</td>\n",
       "      <td>1.0</td>\n",
       "      <td>0.0</td>\n",
       "      <td>0.0</td>\n",
       "      <td>0.0</td>\n",
       "      <td>1.0</td>\n",
       "      <td>0.0</td>\n",
       "      <td>0.0</td>\n",
       "      <td>0.0</td>\n",
       "    </tr>\n",
       "    <tr>\n",
       "      <th>2</th>\n",
       "      <td>0.487791</td>\n",
       "      <td>1.0</td>\n",
       "      <td>0.557692</td>\n",
       "      <td>0.0</td>\n",
       "      <td>0.002245</td>\n",
       "      <td>2023-04-18</td>\n",
       "      <td>0.000000</td>\n",
       "      <td>0.000000</td>\n",
       "      <td>4</td>\n",
       "      <td>1</td>\n",
       "      <td>...</td>\n",
       "      <td>0.0</td>\n",
       "      <td>0.0</td>\n",
       "      <td>0.0</td>\n",
       "      <td>0.0</td>\n",
       "      <td>0.0</td>\n",
       "      <td>1.0</td>\n",
       "      <td>0.0</td>\n",
       "      <td>0.0</td>\n",
       "      <td>1.0</td>\n",
       "      <td>0.0</td>\n",
       "    </tr>\n",
       "    <tr>\n",
       "      <th>3</th>\n",
       "      <td>0.432297</td>\n",
       "      <td>1.0</td>\n",
       "      <td>0.057692</td>\n",
       "      <td>1.0</td>\n",
       "      <td>0.580816</td>\n",
       "      <td>2023-08-09</td>\n",
       "      <td>0.588550</td>\n",
       "      <td>0.588550</td>\n",
       "      <td>8</td>\n",
       "      <td>2</td>\n",
       "      <td>...</td>\n",
       "      <td>1.0</td>\n",
       "      <td>0.0</td>\n",
       "      <td>0.0</td>\n",
       "      <td>1.0</td>\n",
       "      <td>0.0</td>\n",
       "      <td>0.0</td>\n",
       "      <td>1.0</td>\n",
       "      <td>0.0</td>\n",
       "      <td>0.0</td>\n",
       "      <td>0.0</td>\n",
       "    </tr>\n",
       "    <tr>\n",
       "      <th>4</th>\n",
       "      <td>0.389567</td>\n",
       "      <td>0.0</td>\n",
       "      <td>0.442308</td>\n",
       "      <td>0.0</td>\n",
       "      <td>0.616939</td>\n",
       "      <td>2023-09-23</td>\n",
       "      <td>0.121261</td>\n",
       "      <td>0.121261</td>\n",
       "      <td>9</td>\n",
       "      <td>5</td>\n",
       "      <td>...</td>\n",
       "      <td>0.0</td>\n",
       "      <td>1.0</td>\n",
       "      <td>0.0</td>\n",
       "      <td>0.0</td>\n",
       "      <td>0.0</td>\n",
       "      <td>1.0</td>\n",
       "      <td>0.0</td>\n",
       "      <td>0.0</td>\n",
       "      <td>1.0</td>\n",
       "      <td>0.0</td>\n",
       "    </tr>\n",
       "  </tbody>\n",
       "</table>\n",
       "<p>5 rows × 35 columns</p>\n",
       "</div>"
      ],
      "text/plain": [
       "   CustomerID  Gender       Age  Quantity     Price PurchaseDate  TotalAmount  \\\n",
       "0    0.197003     0.0  0.288462       0.5  0.893673   2023-03-15     0.536495   \n",
       "1    0.032741     1.0  0.038462       1.0  0.194082   2023-01-22     0.207094   \n",
       "2    0.487791     1.0  0.557692       0.0  0.002245   2023-04-18     0.000000   \n",
       "3    0.432297     1.0  0.057692       1.0  0.580816   2023-08-09     0.588550   \n",
       "4    0.389567     0.0  0.442308       0.0  0.616939   2023-09-23     0.121261   \n",
       "\n",
       "   CheckAmount  PurchaseMonth  PurchaseDayOfWeek  ...  \\\n",
       "0     0.536495              3                  2  ...   \n",
       "1     0.207094              1                  6  ...   \n",
       "2     0.000000              4                  1  ...   \n",
       "3     0.588550              8                  2  ...   \n",
       "4     0.121261              9                  5  ...   \n",
       "\n",
       "   ProductCategory_Groceries  ProductCategory_Sports  PaymentMode_Card  \\\n",
       "0                        0.0                     0.0               0.0   \n",
       "1                        0.0                     0.0               1.0   \n",
       "2                        0.0                     0.0               0.0   \n",
       "3                        1.0                     0.0               0.0   \n",
       "4                        0.0                     1.0               0.0   \n",
       "\n",
       "   PaymentMode_Cash  PaymentMode_Upi  PaymentMode_Wallet  AgeGroup_18-25  \\\n",
       "0               1.0              0.0                 0.0             0.0   \n",
       "1               0.0              0.0                 0.0             1.0   \n",
       "2               0.0              0.0                 1.0             0.0   \n",
       "3               1.0              0.0                 0.0             1.0   \n",
       "4               0.0              0.0                 1.0             0.0   \n",
       "\n",
       "   AgeGroup_26-40  AgeGroup_41-60  AgeGroup_60+  \n",
       "0             1.0             0.0           0.0  \n",
       "1             0.0             0.0           0.0  \n",
       "2             0.0             1.0           0.0  \n",
       "3             0.0             0.0           0.0  \n",
       "4             0.0             1.0           0.0  \n",
       "\n",
       "[5 rows x 35 columns]"
      ]
     },
     "execution_count": 865,
     "metadata": {},
     "output_type": "execute_result"
    }
   ],
   "source": [
    "df.head()"
   ]
  },
  {
   "cell_type": "code",
   "execution_count": 866,
   "id": "46b3662e",
   "metadata": {},
   "outputs": [
    {
     "data": {
      "text/plain": [
       "CustomerID                     0\n",
       "Gender                         0\n",
       "Age                            0\n",
       "Quantity                       0\n",
       "Price                          0\n",
       "PurchaseDate                   0\n",
       "TotalAmount                    0\n",
       "CheckAmount                    0\n",
       "PurchaseMonth                  0\n",
       "PurchaseDayOfWeek              0\n",
       "City_Ahmedabad                 0\n",
       "City_Bengaluru                 0\n",
       "City_Chennai                   0\n",
       "City_Delhi                     0\n",
       "City_Hyderabad                 0\n",
       "City_Jaipur                    0\n",
       "City_Kolkata                   0\n",
       "City_Lucknow                   0\n",
       "City_Mumbai                    0\n",
       "City_Pune                      0\n",
       "ProductCategory_Beauty         0\n",
       "ProductCategory_Books          0\n",
       "ProductCategory_Electronics    0\n",
       "ProductCategory_Fashion        0\n",
       "ProductCategory_Furniture      0\n",
       "ProductCategory_Groceries      0\n",
       "ProductCategory_Sports         0\n",
       "PaymentMode_Card               0\n",
       "PaymentMode_Cash               0\n",
       "PaymentMode_Upi                0\n",
       "PaymentMode_Wallet             0\n",
       "AgeGroup_18-25                 0\n",
       "AgeGroup_26-40                 0\n",
       "AgeGroup_41-60                 0\n",
       "AgeGroup_60+                   0\n",
       "dtype: int64"
      ]
     },
     "execution_count": 866,
     "metadata": {},
     "output_type": "execute_result"
    }
   ],
   "source": [
    "df.isnull().sum()"
   ]
  },
  {
   "cell_type": "code",
   "execution_count": 867,
   "id": "68d42e5f",
   "metadata": {},
   "outputs": [
    {
     "name": "stdout",
     "output_type": "stream",
     "text": [
      "Empty DataFrame\n",
      "Columns: [CustomerID, Gender, Age, Quantity, Price, PurchaseDate, TotalAmount, CheckAmount, PurchaseMonth, PurchaseDayOfWeek, City_Ahmedabad, City_Bengaluru, City_Chennai, City_Delhi, City_Hyderabad, City_Jaipur, City_Kolkata, City_Lucknow, City_Mumbai, City_Pune, ProductCategory_Beauty, ProductCategory_Books, ProductCategory_Electronics, ProductCategory_Fashion, ProductCategory_Furniture, ProductCategory_Groceries, ProductCategory_Sports, PaymentMode_Card, PaymentMode_Cash, PaymentMode_Upi, PaymentMode_Wallet, AgeGroup_18-25, AgeGroup_26-40, AgeGroup_41-60, AgeGroup_60+]\n",
      "Index: []\n",
      "\n",
      "[0 rows x 35 columns]\n"
     ]
    }
   ],
   "source": [
    "invalid_rows=df[(df['Quantity']<0) |\n",
    "                (df['Price']<0) |\n",
    "                (df['TotalAmount']<0)]\n",
    "print(invalid_rows)"
   ]
  },
  {
   "cell_type": "code",
   "execution_count": 868,
   "id": "1edbb098",
   "metadata": {},
   "outputs": [],
   "source": [
    "df.drop('CustomerID', axis=1, inplace=True)"
   ]
  },
  {
   "cell_type": "code",
   "execution_count": 869,
   "id": "953ae4ab",
   "metadata": {},
   "outputs": [],
   "source": [
    "df.drop('PurchaseDate', axis=1, inplace=True)"
   ]
  },
  {
   "cell_type": "code",
   "execution_count": 870,
   "id": "7750a128",
   "metadata": {},
   "outputs": [],
   "source": [
    "df.to_csv('Retail_Cleaned.csv', index=False)"
   ]
  },
  {
   "cell_type": "markdown",
   "id": "8a9ce10b",
   "metadata": {},
   "source": [
    "Part B: Data Visualization Tasks\n"
   ]
  },
  {
   "cell_type": "code",
   "execution_count": 871,
   "id": "013110ee",
   "metadata": {},
   "outputs": [],
   "source": [
    "df=pd.read_csv(\"Retail_Cleaned.csv\")"
   ]
  },
  {
   "cell_type": "code",
   "execution_count": 872,
   "id": "1741723f",
   "metadata": {},
   "outputs": [
    {
     "data": {
      "text/html": [
       "<div>\n",
       "<style scoped>\n",
       "    .dataframe tbody tr th:only-of-type {\n",
       "        vertical-align: middle;\n",
       "    }\n",
       "\n",
       "    .dataframe tbody tr th {\n",
       "        vertical-align: top;\n",
       "    }\n",
       "\n",
       "    .dataframe thead th {\n",
       "        text-align: right;\n",
       "    }\n",
       "</style>\n",
       "<table border=\"1\" class=\"dataframe\">\n",
       "  <thead>\n",
       "    <tr style=\"text-align: right;\">\n",
       "      <th></th>\n",
       "      <th>Gender</th>\n",
       "      <th>Age</th>\n",
       "      <th>Quantity</th>\n",
       "      <th>Price</th>\n",
       "      <th>TotalAmount</th>\n",
       "      <th>CheckAmount</th>\n",
       "      <th>PurchaseMonth</th>\n",
       "      <th>PurchaseDayOfWeek</th>\n",
       "      <th>City_Ahmedabad</th>\n",
       "      <th>City_Bengaluru</th>\n",
       "      <th>...</th>\n",
       "      <th>ProductCategory_Groceries</th>\n",
       "      <th>ProductCategory_Sports</th>\n",
       "      <th>PaymentMode_Card</th>\n",
       "      <th>PaymentMode_Cash</th>\n",
       "      <th>PaymentMode_Upi</th>\n",
       "      <th>PaymentMode_Wallet</th>\n",
       "      <th>AgeGroup_18-25</th>\n",
       "      <th>AgeGroup_26-40</th>\n",
       "      <th>AgeGroup_41-60</th>\n",
       "      <th>AgeGroup_60+</th>\n",
       "    </tr>\n",
       "  </thead>\n",
       "  <tbody>\n",
       "    <tr>\n",
       "      <th>0</th>\n",
       "      <td>0.0</td>\n",
       "      <td>0.288462</td>\n",
       "      <td>0.5</td>\n",
       "      <td>0.893673</td>\n",
       "      <td>0.536495</td>\n",
       "      <td>0.536495</td>\n",
       "      <td>3</td>\n",
       "      <td>2</td>\n",
       "      <td>0.0</td>\n",
       "      <td>1.0</td>\n",
       "      <td>...</td>\n",
       "      <td>0.0</td>\n",
       "      <td>0.0</td>\n",
       "      <td>0.0</td>\n",
       "      <td>1.0</td>\n",
       "      <td>0.0</td>\n",
       "      <td>0.0</td>\n",
       "      <td>0.0</td>\n",
       "      <td>1.0</td>\n",
       "      <td>0.0</td>\n",
       "      <td>0.0</td>\n",
       "    </tr>\n",
       "    <tr>\n",
       "      <th>1</th>\n",
       "      <td>1.0</td>\n",
       "      <td>0.038462</td>\n",
       "      <td>1.0</td>\n",
       "      <td>0.194082</td>\n",
       "      <td>0.207094</td>\n",
       "      <td>0.207094</td>\n",
       "      <td>1</td>\n",
       "      <td>6</td>\n",
       "      <td>0.0</td>\n",
       "      <td>0.0</td>\n",
       "      <td>...</td>\n",
       "      <td>0.0</td>\n",
       "      <td>0.0</td>\n",
       "      <td>1.0</td>\n",
       "      <td>0.0</td>\n",
       "      <td>0.0</td>\n",
       "      <td>0.0</td>\n",
       "      <td>1.0</td>\n",
       "      <td>0.0</td>\n",
       "      <td>0.0</td>\n",
       "      <td>0.0</td>\n",
       "    </tr>\n",
       "    <tr>\n",
       "      <th>2</th>\n",
       "      <td>1.0</td>\n",
       "      <td>0.557692</td>\n",
       "      <td>0.0</td>\n",
       "      <td>0.002245</td>\n",
       "      <td>0.000000</td>\n",
       "      <td>0.000000</td>\n",
       "      <td>4</td>\n",
       "      <td>1</td>\n",
       "      <td>0.0</td>\n",
       "      <td>0.0</td>\n",
       "      <td>...</td>\n",
       "      <td>0.0</td>\n",
       "      <td>0.0</td>\n",
       "      <td>0.0</td>\n",
       "      <td>0.0</td>\n",
       "      <td>0.0</td>\n",
       "      <td>1.0</td>\n",
       "      <td>0.0</td>\n",
       "      <td>0.0</td>\n",
       "      <td>1.0</td>\n",
       "      <td>0.0</td>\n",
       "    </tr>\n",
       "    <tr>\n",
       "      <th>3</th>\n",
       "      <td>1.0</td>\n",
       "      <td>0.057692</td>\n",
       "      <td>1.0</td>\n",
       "      <td>0.580816</td>\n",
       "      <td>0.588550</td>\n",
       "      <td>0.588550</td>\n",
       "      <td>8</td>\n",
       "      <td>2</td>\n",
       "      <td>0.0</td>\n",
       "      <td>0.0</td>\n",
       "      <td>...</td>\n",
       "      <td>1.0</td>\n",
       "      <td>0.0</td>\n",
       "      <td>0.0</td>\n",
       "      <td>1.0</td>\n",
       "      <td>0.0</td>\n",
       "      <td>0.0</td>\n",
       "      <td>1.0</td>\n",
       "      <td>0.0</td>\n",
       "      <td>0.0</td>\n",
       "      <td>0.0</td>\n",
       "    </tr>\n",
       "    <tr>\n",
       "      <th>4</th>\n",
       "      <td>0.0</td>\n",
       "      <td>0.442308</td>\n",
       "      <td>0.0</td>\n",
       "      <td>0.616939</td>\n",
       "      <td>0.121261</td>\n",
       "      <td>0.121261</td>\n",
       "      <td>9</td>\n",
       "      <td>5</td>\n",
       "      <td>0.0</td>\n",
       "      <td>0.0</td>\n",
       "      <td>...</td>\n",
       "      <td>0.0</td>\n",
       "      <td>1.0</td>\n",
       "      <td>0.0</td>\n",
       "      <td>0.0</td>\n",
       "      <td>0.0</td>\n",
       "      <td>1.0</td>\n",
       "      <td>0.0</td>\n",
       "      <td>0.0</td>\n",
       "      <td>1.0</td>\n",
       "      <td>0.0</td>\n",
       "    </tr>\n",
       "  </tbody>\n",
       "</table>\n",
       "<p>5 rows × 33 columns</p>\n",
       "</div>"
      ],
      "text/plain": [
       "   Gender       Age  Quantity     Price  TotalAmount  CheckAmount  \\\n",
       "0     0.0  0.288462       0.5  0.893673     0.536495     0.536495   \n",
       "1     1.0  0.038462       1.0  0.194082     0.207094     0.207094   \n",
       "2     1.0  0.557692       0.0  0.002245     0.000000     0.000000   \n",
       "3     1.0  0.057692       1.0  0.580816     0.588550     0.588550   \n",
       "4     0.0  0.442308       0.0  0.616939     0.121261     0.121261   \n",
       "\n",
       "   PurchaseMonth  PurchaseDayOfWeek  City_Ahmedabad  City_Bengaluru  ...  \\\n",
       "0              3                  2             0.0             1.0  ...   \n",
       "1              1                  6             0.0             0.0  ...   \n",
       "2              4                  1             0.0             0.0  ...   \n",
       "3              8                  2             0.0             0.0  ...   \n",
       "4              9                  5             0.0             0.0  ...   \n",
       "\n",
       "   ProductCategory_Groceries  ProductCategory_Sports  PaymentMode_Card  \\\n",
       "0                        0.0                     0.0               0.0   \n",
       "1                        0.0                     0.0               1.0   \n",
       "2                        0.0                     0.0               0.0   \n",
       "3                        1.0                     0.0               0.0   \n",
       "4                        0.0                     1.0               0.0   \n",
       "\n",
       "   PaymentMode_Cash  PaymentMode_Upi  PaymentMode_Wallet  AgeGroup_18-25  \\\n",
       "0               1.0              0.0                 0.0             0.0   \n",
       "1               0.0              0.0                 0.0             1.0   \n",
       "2               0.0              0.0                 1.0             0.0   \n",
       "3               1.0              0.0                 0.0             1.0   \n",
       "4               0.0              0.0                 1.0             0.0   \n",
       "\n",
       "   AgeGroup_26-40  AgeGroup_41-60  AgeGroup_60+  \n",
       "0             1.0             0.0           0.0  \n",
       "1             0.0             0.0           0.0  \n",
       "2             0.0             1.0           0.0  \n",
       "3             0.0             0.0           0.0  \n",
       "4             0.0             1.0           0.0  \n",
       "\n",
       "[5 rows x 33 columns]"
      ]
     },
     "execution_count": 872,
     "metadata": {},
     "output_type": "execute_result"
    }
   ],
   "source": [
    "df.head()"
   ]
  },
  {
   "cell_type": "code",
   "execution_count": 873,
   "id": "1975c6c9",
   "metadata": {},
   "outputs": [
    {
     "data": {
      "image/png": "[encoded data removed]",
      "text/plain": [
       "<Figure size 800x500 with 1 Axes>"
      ]
     },
     "metadata": {},
     "output_type": "display_data"
    }
   ],
   "source": [
    "plt.figure(figsize=(8,5))\n",
    "sns.histplot(df['Age'], bins=20, kde=True, color='skyblue')\n",
    "plt.title(\"Age Distribution of Customers\")\n",
    "plt.xlabel(\"Age\")\n",
    "plt.ylabel(\"Count\")\n",
    "plt.show()"
   ]
  },
  {
   "cell_type": "code",
   "execution_count": 874,
   "id": "b91e2aef",
   "metadata": {},
   "outputs": [
    {
     "name": "stderr",
     "output_type": "stream",
     "text": [
      "C:\\Users\\Dharshini\\AppData\\Local\\Temp\\ipykernel_23324\\2253369066.py:4: FutureWarning: \n",
      "\n",
      "Passing `palette` without assigning `hue` is deprecated and will be removed in v0.14.0. Assign the `x` variable to `hue` and set `legend=False` for the same effect.\n",
      "\n",
      "  sns.countplot(x='Gender', data=df, palette='Set2')\n"
     ]
    },
    {
     "data": {
      "image/png": "[encoded data removed]",
      "text/plain": [
       "<Figure size 600x400 with 1 Axes>"
      ]
     },
     "metadata": {},
     "output_type": "display_data"
    }
   ],
   "source": [
    "gender_map = {0: 'Female', 1: 'Male', 2: 'Other'}\n",
    "df['Gender'] = df['Gender'].map(gender_map)\n",
    "plt.figure(figsize=(6,4))\n",
    "sns.countplot(x='Gender', data=df, palette='Set2')\n",
    "plt.title(\"Gender Distribution of Customers\")\n",
    "plt.xlabel(\"Gender\")\n",
    "plt.ylabel(\"Count\")\n",
    "plt.show()\n"
   ]
  },
  {
   "cell_type": "code",
   "execution_count": 875,
   "id": "611b5e45",
   "metadata": {},
   "outputs": [
    {
     "name": "stderr",
     "output_type": "stream",
     "text": [
      "C:\\Users\\Dharshini\\AppData\\Local\\Temp\\ipykernel_23324\\837233830.py:6: FutureWarning: \n",
      "\n",
      "Passing `palette` without assigning `hue` is deprecated and will be removed in v0.14.0. Assign the `y` variable to `hue` and set `legend=False` for the same effect.\n",
      "\n",
      "  sns.barplot(x=city_counts.values, y=city_counts.index, palette='viridis')\n"
     ]
    },
    {
     "data": {
      "image/png": "[encoded data removed]",
      "text/plain": [
       "<Figure size 1000x600 with 1 Axes>"
      ]
     },
     "metadata": {},
     "output_type": "display_data"
    }
   ],
   "source": [
    "city_cols = [col for col in df.columns if col.startswith('City_')]\n",
    "\n",
    "city_counts = df[city_cols].sum().sort_values(ascending=False).head(10)\n",
    "\n",
    "plt.figure(figsize=(10,6))\n",
    "sns.barplot(x=city_counts.values, y=city_counts.index, palette='viridis')\n",
    "plt.title(\"Top 10 Cities by Number of Customers\")\n",
    "plt.xlabel(\"Number of Customers\")\n",
    "plt.ylabel(\"City\")\n",
    "plt.show()\n"
   ]
  },
  {
   "cell_type": "code",
   "execution_count": 876,
   "id": "1ce05522",
   "metadata": {},
   "outputs": [
    {
     "name": "stderr",
     "output_type": "stream",
     "text": [
      "C:\\Users\\Dharshini\\AppData\\Local\\Temp\\ipykernel_23324\\1862739082.py:8: FutureWarning: \n",
      "\n",
      "Passing `palette` without assigning `hue` is deprecated and will be removed in v0.14.0. Assign the `y` variable to `hue` and set `legend=False` for the same effect.\n",
      "\n",
      "  sns.barplot(x=top_products.values, y=top_products.index, palette='viridis')\n"
     ]
    },
    {
     "data": {
      "image/png": "[encoded data removed]",
      "text/plain": [
       "<Figure size 1000x600 with 1 Axes>"
      ]
     },
     "metadata": {},
     "output_type": "display_data"
    }
   ],
   "source": [
    "product_cols = [col for col in df.columns if col.startswith('ProductCategory_')]\n",
    "\n",
    "df['ProductCategory'] = df[product_cols].idxmax(axis=1).str.replace('ProductCategory_', '', regex=False)\n",
    "\n",
    "top_products = df['ProductCategory'].value_counts().head(10)\n",
    "\n",
    "plt.figure(figsize=(10,6))\n",
    "sns.barplot(x=top_products.values, y=top_products.index, palette='viridis')\n",
    "plt.title('Top 10 Product Categories by Number of Customers')\n",
    "plt.xlabel('Number of Customers')\n",
    "plt.ylabel('Product Category')\n",
    "plt.show()\n"
   ]
  },
  {
   "cell_type": "code",
   "execution_count": 877,
   "id": "0d4d6975",
   "metadata": {},
   "outputs": [
    {
     "data": {
      "image/png": "[encoded data removed]",
      "text/plain": [
       "<Figure size 1000x600 with 1 Axes>"
      ]
     },
     "metadata": {},
     "output_type": "display_data"
    }
   ],
   "source": [
    "monthly_sales = df.groupby('PurchaseMonth')['TotalAmount'].sum().reset_index()\n",
    "monthly_sales = monthly_sales.sort_values('PurchaseMonth')\n",
    "plt.figure(figsize=(10,6))\n",
    "sns.lineplot(x='PurchaseMonth', y='TotalAmount', data=monthly_sales, marker='o')\n",
    "plt.title(\"Monthly Sales Trend\")\n",
    "plt.xlabel(\"Month (1 = Jan, 12 = Dec)\")\n",
    "plt.ylabel(\"Total Sales (₹)\")\n",
    "plt.xticks(range(1,13))\n",
    "plt.grid(True, linestyle='--', alpha=0.6)\n",
    "plt.show()\n"
   ]
  },
  {
   "cell_type": "code",
   "execution_count": 878,
   "id": "cb96f948",
   "metadata": {},
   "outputs": [
    {
     "data": {
      "image/png": "[encoded data removed]",
      "text/plain": [
       "<Figure size 600x600 with 1 Axes>"
      ]
     },
     "metadata": {},
     "output_type": "display_data"
    }
   ],
   "source": [
    "payment_cols = [col for col in df.columns if col.startswith('PaymentMode_')]\n",
    "\n",
    "payment_usage = {\n",
    "    col.replace('PaymentMode_', ''): df[col].sum()\n",
    "    for col in payment_cols\n",
    "}\n",
    "\n",
    "plt.figure(figsize=(6,6))\n",
    "plt.pie(payment_usage.values(), labels=payment_usage.keys(), autopct='%1.1f%%',\n",
    "        startangle=140, colors=sns.color_palette('pastel'))\n",
    "plt.title(\"Payment Mode Usage\")\n",
    "plt.show()\n"
   ]
  },
  {
   "cell_type": "code",
   "execution_count": 879,
   "id": "2c41fd36",
   "metadata": {},
   "outputs": [
    {
     "name": "stderr",
     "output_type": "stream",
     "text": [
      "C:\\Users\\Dharshini\\AppData\\Local\\Temp\\ipykernel_23324\\2820381843.py:12: FutureWarning: \n",
      "\n",
      "Passing `palette` without assigning `hue` is deprecated and will be removed in v0.14.0. Assign the `x` variable to `hue` and set `legend=False` for the same effect.\n",
      "\n",
      "  sns.barplot(x='AgeGroup', y='AvgSpend', data=avg_spend_df, palette='viridis')\n"
     ]
    },
    {
     "data": {
      "image/png": "[encoded data removed]",
      "text/plain": [
       "<Figure size 800x500 with 1 Axes>"
      ]
     },
     "metadata": {},
     "output_type": "display_data"
    }
   ],
   "source": [
    "agegroup_cols = [col for col in df.columns if col.startswith('AgeGroup_')]\n",
    "\n",
    "avg_spend = {}\n",
    "for col in agegroup_cols:\n",
    "    group = col.replace('AgeGroup_', '')\n",
    "    avg_spend[group] = df.loc[df[col] == 1, 'TotalAmount'].mean()\n",
    "\n",
    "avg_spend_df = pd.DataFrame(list(avg_spend.items()), columns=['AgeGroup', 'AvgSpend'])\n",
    "avg_spend_df = avg_spend_df.sort_values(by='AvgSpend', ascending=False)\n",
    "\n",
    "plt.figure(figsize=(8,5))\n",
    "sns.barplot(x='AgeGroup', y='AvgSpend', data=avg_spend_df, palette='viridis')\n",
    "plt.title(\"Average Spend per Customer by Age Group\")\n",
    "plt.xlabel(\"Age Group\")\n",
    "plt.ylabel(\"Average Spend (₹)\")\n",
    "plt.show()\n"
   ]
  },
  {
   "cell_type": "code",
   "execution_count": 880,
   "id": "0c13df1b",
   "metadata": {},
   "outputs": [
    {
     "name": "stderr",
     "output_type": "stream",
     "text": [
      "C:\\Users\\Dharshini\\AppData\\Local\\Temp\\ipykernel_23324\\4274503061.py:9: FutureWarning: \n",
      "\n",
      "Passing `palette` without assigning `hue` is deprecated and will be removed in v0.14.0. Assign the `y` variable to `hue` and set `legend=False` for the same effect.\n",
      "\n",
      "  sns.barplot(x='Revenue', y='City', data=city_revenue_df, palette='coolwarm')\n"
     ]
    },
    {
     "data": {
      "image/png": "[encoded data removed]",
      "text/plain": [
       "<Figure size 1000x600 with 1 Axes>"
      ]
     },
     "metadata": {},
     "output_type": "display_data"
    }
   ],
   "source": [
    "city_cols = [col for col in df.columns if col.startswith('City_')]\n",
    "\n",
    "city_revenue = {col.replace('City_', ''): df.loc[df[col] == 1, 'TotalAmount'].sum() for col in city_cols}\n",
    "\n",
    "city_revenue_df = pd.DataFrame(list(city_revenue.items()), columns=['City', 'Revenue'])\n",
    "city_revenue_df = city_revenue_df.sort_values(by='Revenue', ascending=False)\n",
    "\n",
    "plt.figure(figsize=(10,6))\n",
    "sns.barplot(x='Revenue', y='City', data=city_revenue_df, palette='coolwarm')\n",
    "plt.title(\"City-wise Revenue Contribution\")\n",
    "plt.xlabel(\"Total Revenue (₹)\")\n",
    "plt.ylabel(\"City\")\n",
    "plt.show()\n"
   ]
  },
  {
   "cell_type": "code",
   "execution_count": 881,
   "id": "ab3bfa5f",
   "metadata": {},
   "outputs": [
    {
     "data": {
      "image/png": "[encoded data removed]",
      "text/plain": [
       "<Figure size 800x600 with 2 Axes>"
      ]
     },
     "metadata": {},
     "output_type": "display_data"
    }
   ],
   "source": [
    "product_cols = [col for col in df.columns if col.startswith('ProductCategory_')]\n",
    "payment_cols = [col for col in df.columns if col.startswith('PaymentMode_')]\n",
    "\n",
    "heatmap_data = pd.DataFrame(index=[col.replace('ProductCategory_', '') for col in product_cols],\n",
    "                            columns=[col.replace('PaymentMode_', '') for col in payment_cols])\n",
    "\n",
    "for p_col in product_cols:\n",
    "    for pay_col in payment_cols:\n",
    "        total = df.loc[(df[p_col] == 1) & (df[pay_col] == 1), 'TotalAmount'].sum()\n",
    "        heatmap_data.loc[p_col.replace('ProductCategory_', ''), pay_col.replace('PaymentMode_', '')] = total\n",
    "\n",
    "heatmap_data = heatmap_data.astype(float)\n",
    "\n",
    "plt.figure(figsize=(8,6))\n",
    "sns.heatmap(heatmap_data, annot=True, fmt=\".0f\", cmap='YlGnBu')\n",
    "plt.title(\"Heatmap: Product Category vs Payment Mode (Total Sales ₹)\")\n",
    "plt.xlabel(\"Payment Mode\")\n",
    "plt.ylabel(\"Product Category\")\n",
    "plt.show()\n"
   ]
  }
 ],
 "metadata": {
  "kernelspec": {
   "display_name": "Python 3",
   "language": "python",
   "name": "python3"
  },
  "language_info": {
   "codemirror_mode": {
    "name": "ipython",
    "version": 3
   },
   "file_extension": ".py",
   "mimetype": "text/x-python",
   "name": "python",
   "nbconvert_exporter": "python",
   "pygments_lexer": "ipython3",
   "version": "3.10.19"
  }
 },
 "nbformat": 4,
 "nbformat_minor": 5
}
